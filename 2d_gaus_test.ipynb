{
 "cells": [
  {
   "cell_type": "code",
   "execution_count": 1,
   "metadata": {},
   "outputs": [],
   "source": [
    "import scipy.optimize as opt\n",
    "import numpy as np\n",
    "import matplotlib.pyplot as plt\n",
    "import pickle"
   ]
  },
  {
   "cell_type": "code",
   "execution_count": 2,
   "metadata": {},
   "outputs": [],
   "source": [
    "#define model function and pass independant variables x and y as a list\n",
    "def twoD_Gaussian((x,y), amplitude, xo, yo, sigma_x, sigma_y, theta, offset):\n",
    "    xo = float(xo)\n",
    "    yo = float(yo)    \n",
    "    a = (np.cos(theta)**2)/(2*sigma_x**2) + (np.sin(theta)**2)/(2*sigma_y**2)\n",
    "    b = -(np.sin(2*theta))/(4*sigma_x**2) + (np.sin(2*theta))/(4*sigma_y**2)\n",
    "    c = (np.sin(theta)**2)/(2*sigma_x**2) + (np.cos(theta)**2)/(2*sigma_y**2)\n",
    "     \n",
    "    g = offset + amplitude*np.exp( - (a*((x-xo)**2) + 2*b*(x-xo)*(y-yo) + c*((y-yo)**2)))\n",
    "    return g.ravel()"
   ]
  },
  {
   "cell_type": "code",
   "execution_count": null,
   "metadata": {},
   "outputs": [],
   "source": [
    "# Create x and y indices\n",
    "x = np.linspace(0, 200, 201)\n",
    "y = np.linspace(0, 200, 201)\n",
    "x,y = np.meshgrid(x, y)\n",
    "\n",
    "print x.shape\n",
    "print y.shape\n",
    "\n",
    "#create data\n",
    "data = twoD_Gaussian((x, y), 3, 100, 100, 20, 40, 0, 10)\n",
    "\n",
    "# plot twoD_Gaussian data generated above\n",
    "plt.figure()\n",
    "plt.imshow(data.reshape(201,201))\n",
    "plt.colorbar()"
   ]
  },
  {
   "cell_type": "code",
   "execution_count": null,
   "metadata": {},
   "outputs": [],
   "source": [
    "# add some noise to the data and try to fit the data generated beforehand\n",
    "initial_guess = (3,100,100,20,40,0,10)\n",
    "\n",
    "data_noisy = data + 0.2*np.random.normal(size=data.shape)\n",
    "\n",
    "popt, pcov = opt.curve_fit(twoD_Gaussian, (x,y), data_noisy, p0 = initial_guess)\n",
    "print x.shape"
   ]
  },
  {
   "cell_type": "code",
   "execution_count": null,
   "metadata": {},
   "outputs": [],
   "source": [
    "data_fitted = twoD_Gaussian((x, y), *popt)\n",
    "print x.shape\n",
    "fig, ax = plt.subplots(1, 1)\n",
    "ax.hold(True)\n",
    "ax.imshow(data_noisy.reshape(201, 201), cmap=plt.cm.jet, origin='bottom',\n",
    "    extent=(x.min(), x.max(), y.min(), y.max()))\n",
    "ax.contour(x, y, data_fitted.reshape(201, 201), 8, colors='w')\n",
    "plt.show()"
   ]
  },
  {
   "cell_type": "markdown",
   "metadata": {},
   "source": [
    "# Testing"
   ]
  },
  {
   "cell_type": "code",
   "execution_count": 3,
   "metadata": {},
   "outputs": [],
   "source": [
    "file = open(\"test_image.txt\", \"r\")\n",
    "test_image = pickle.load(file)\n",
    "file.close()"
   ]
  },
  {
   "cell_type": "code",
   "execution_count": 4,
   "metadata": {},
   "outputs": [
    {
     "data": {
      "text/plain": [
       "(90, 20)"
      ]
     },
     "execution_count": 4,
     "metadata": {},
     "output_type": "execute_result"
    }
   ],
   "source": [
    "test_image.shape"
   ]
  },
  {
   "cell_type": "code",
   "execution_count": 5,
   "metadata": {},
   "outputs": [
    {
     "name": "stdout",
     "output_type": "stream",
     "text": [
      "[[ 4.0002255  3.016954   3.0479958 ...  2.9831026  1.997243   0.       ]\n",
      " [ 5.8727455 14.113328   2.0214963 ...  1.9798814  3.0083761 -1.0068678]\n",
      " [ 3.0034878  1.0572925  9.689339  ...  0.9438027  3.814166   3.1254227]\n",
      " ...\n",
      " [22.132273  30.257576  27.249277  ... 19.837215  18.777105  26.598648 ]\n",
      " [38.959152  31.012133  35.44486   ... 26.647377  24.044285  22.812052 ]\n",
      " [38.408997  28.914703  35.122715  ... 29.82582   30.950285  26.787922 ]]\n"
     ]
    }
   ],
   "source": [
    "print test_image"
   ]
  },
  {
   "cell_type": "code",
   "execution_count": 6,
   "metadata": {},
   "outputs": [
    {
     "data": {
      "text/plain": [
       "numpy.ndarray"
      ]
     },
     "execution_count": 6,
     "metadata": {},
     "output_type": "execute_result"
    }
   ],
   "source": [
    "type(test_image)"
   ]
  },
  {
   "cell_type": "code",
   "execution_count": 7,
   "metadata": {},
   "outputs": [
    {
     "data": {
      "text/plain": [
       "<matplotlib.image.AxesImage at 0x7fa153792490>"
      ]
     },
     "execution_count": 7,
     "metadata": {},
     "output_type": "execute_result"
    },
    {
     "data": {
      "image/png": "[encoded data removed]",
      "text/plain": [
       "<Figure size 432x288 with 1 Axes>"
      ]
     },
     "metadata": {
      "needs_background": "light"
     },
     "output_type": "display_data"
    }
   ],
   "source": [
    "plt.imshow(test_image)"
   ]
  },
  {
   "cell_type": "code",
   "execution_count": 11,
   "metadata": {},
   "outputs": [],
   "source": [
    "#initial_guess = (3,100,100,20,40,0,10)\n",
    "initial_guess = [800, 10, 45, 5, 25, 0, 0]\n",
    "x = np.arange(0, 20)\n",
    "y = np.arange(0, 90)\n",
    "x,y = np.meshgrid(x, y)\n",
    "popt, pcov = opt.curve_fit(twoD_Gaussian, (x,y), test_image.flatten(), p0 = initial_guess)"
   ]
  },
  {
   "cell_type": "code",
   "execution_count": 17,
   "metadata": {},
   "outputs": [
    {
     "name": "stderr",
     "output_type": "stream",
     "text": [
      "/home/kyle/.local/lib/python2.7/site-packages/ipykernel_launcher.py:4: MatplotlibDeprecationWarning: axes.hold is deprecated.\n",
      "    See the API Changes document (http://matplotlib.org/api/api_changes.html)\n",
      "    for more details.\n",
      "  after removing the cwd from sys.path.\n"
     ]
    },
    {
     "data": {
      "image/png": "[encoded data removed]",
      "text/plain": [
       "<Figure size 432x288 with 1 Axes>"
      ]
     },
     "metadata": {
      "needs_background": "light"
     },
     "output_type": "display_data"
    }
   ],
   "source": [
    "data_fitted = twoD_Gaussian((x, y), *popt)\n",
    "\n",
    "fig, ax = plt.subplots(1, 1)\n",
    "ax.hold(True)\n",
    "ax.imshow(test_image.reshape(90, 20), cmap=plt.cm.jet, origin='bottom',\n",
    "    extent=(x.min(), x.max(), y.min(), y.max()))\n",
    "ax.contour(x, y, data_fitted.reshape(90, 20), 8, colors='w')\n",
    "plt.show()"
   ]
  },
  {
   "cell_type": "code",
   "execution_count": 14,
   "metadata": {},
   "outputs": [
    {
     "name": "stdout",
     "output_type": "stream",
     "text": [
      "[7.80021632e+02 9.39703762e+00 4.47632003e+01 1.90119641e+00\n",
      " 1.81172138e+01 9.39046842e-04 1.81796385e+01]\n"
     ]
    }
   ],
   "source": [
    "print popt"
   ]
  },
  {
   "cell_type": "code",
   "execution_count": null,
   "metadata": {},
   "outputs": [],
   "source": [
    "print type(x)\n",
    "print type(y)"
   ]
  },
  {
   "cell_type": "code",
   "execution_count": null,
   "metadata": {},
   "outputs": [],
   "source": [
    "x = np.arange(0, 20)\n",
    "y = np.arange(0, 90)\n",
    "x,y = np.meshgrid(x, y)\n",
    "\n",
    "#create data\n",
    "data = twoD_Gaussian((x, y), 800, 10, 45, 5, 25, 0, 0)\n",
    "\n",
    "# plot twoD_Gaussian data generated above\n",
    "plt.figure()\n",
    "plt.imshow(data.reshape(90,20))\n",
    "plt.colorbar()"
   ]
  },
  {
   "cell_type": "code",
   "execution_count": null,
   "metadata": {},
   "outputs": [],
   "source": [
    "conda activate "
   ]
  },
  {
   "cell_type": "code",
   "execution_count": null,
   "metadata": {
    "collapsed": true
   },
   "outputs": [],
   "source": []
  }
 ],
 "metadata": {
  "kernelspec": {
   "display_name": "Python 2",
   "language": "python",
   "name": "python2"
  },
  "language_info": {
   "codemirror_mode": {
    "name": "ipython",
    "version": 2
   },
   "file_extension": ".py",
   "mimetype": "text/x-python",
   "name": "python",
   "nbconvert_exporter": "python",
   "pygments_lexer": "ipython2",
   "version": "2.7.16"
  }
 },
 "nbformat": 4,
 "nbformat_minor": 4
}
